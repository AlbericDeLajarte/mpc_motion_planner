{
 "cells": [
  {
   "cell_type": "code",
   "execution_count": null,
   "metadata": {},
   "outputs": [],
   "source": [
    "import pinocchio as pin\n",
    "from pinocchio.utils import *\n",
    "\n",
    "import plotly.express as px"
   ]
  },
  {
   "cell_type": "code",
   "execution_count": null,
   "metadata": {},
   "outputs": [],
   "source": [
    "model = pin.buildModelFromUrdf(\"robot_utils/panda-model/panda_arm.urdf\")\n",
    "data = model.createData()\n"
   ]
  },
  {
   "cell_type": "code",
   "execution_count": null,
   "metadata": {},
   "outputs": [],
   "source": [
    "q0 = np.array([1.0, 1.0, 1.0, 1.0, -1.0, 1.0, -1.0])\n",
    "v0 = np.zeros(7)\n",
    "a0 = np.ones(7)*10\n",
    "\n",
    "model.gravity = pin.Motion.Zero()\n",
    "\n",
    "lr = 1e-3\n",
    "loss = []\n",
    "for i in range(10000):\n",
    "\n",
    "    _, _, _ = pin.computeRNEADerivatives(model,data,q0,v0,a0)\n",
    "\n",
    "    loss.append(np.linalg.norm(data.tau))\n",
    "\n",
    "    dtau_dq = data.dtau_dq # Derivatives of the ID w.r.t. the joint config vector\n",
    "    dtau_dv = data.dtau_dv # Derivatives of the ID w.r.t. the joint velocity vector\n",
    "    dtau_da = data.M # Derivatives of the ID w.r.t. the joint acceleration vector\n",
    "\n",
    "    a0 -= 210*lr*dtau_da.T@data.tau;\n",
    "\n",
    "    \n",
    "print(a0)\n",
    "px.line(loss)"
   ]
  },
  {
   "cell_type": "code",
   "execution_count": null,
   "metadata": {},
   "outputs": [],
   "source": [
    "_, _, _ = pin.computeRNEADerivatives(model,data,np.array([1.0, -1.0, 0.5, -2.0, 1.0, 2.0, -0.5]),np.zeros(7),np.array([10, 10, 10, 10, 10, 10, 10]))\n",
    "np.set_printoptions(precision=3, suppress=True)\n",
    "print(dtau_da)\n"
   ]
  },
  {
   "cell_type": "code",
   "execution_count": null,
   "metadata": {},
   "outputs": [],
   "source": [
    "\n",
    "\n",
    "q0 = np.array([1.0, 1.0, 1.0, 1.0, -1.0, 1.0, -1.0])\n",
    "qd0 = q0*5\n",
    "qdd0 = np.ones(7)*10\n",
    "\n",
    "pin.forwardKinematics(model,data,qTest)\n",
    "J = pin.computeJointJacobian(model,data,q0,7)\n",
    "R_bloc = np.zeros((6,6))\n",
    "R_bloc[0:3, 0:3] = data.oMi[7].rotation\n",
    "R_bloc[3:, 3:] = data.oMi[7].rotation\n",
    "J = R_bloc@J\n",
    "\n",
    "print(\"Initial config: \", q0)\n",
    "print(\"Initial velocity: \", J@qd0)\n",
    "\n",
    "lr = 1e-3\n",
    "loss = []\n",
    "for i in range(2000):\n",
    "\n",
    "    pin.forwardKinematics(model,data,qTest)\n",
    "\n",
    "    pin.computeForwardKinematicsDerivatives(model, data, q0, qd0, qdd0)\n",
    "    (dv_dq,dv_dv) = pin.getJointVelocityDerivatives(model,data,7,pin.ReferenceFrame.LOCAL)\n",
    "    \n",
    "    J = pin.computeJointJacobian(model,data,q0,7)\n",
    "    R_bloc = np.zeros((6,6))\n",
    "    R_bloc[0:3, 0:3] = data.oMi[7].rotation\n",
    "    R_bloc[3:, 3:] = data.oMi[7].rotation\n",
    "    # J = R_bloc@J\n",
    "\n",
    "    loss.append(np.linalg.norm(J@qd0))\n",
    "\n",
    "    q0 -= lr*dv_dq.T@(J@qd0)\n",
    "\n",
    "    \n",
    "print(\"Final config: \", q0)\n",
    "print(\"Final velocity: \", J@qd0)\n",
    "px.line(loss)\n"
   ]
  },
  {
   "cell_type": "code",
   "execution_count": null,
   "metadata": {},
   "outputs": [],
   "source": [
    "import pinocchio as pin\n",
    "import numpy as np\n",
    "\n",
    "model = pin.buildModelFromUrdf(\"robot_utils/panda-model/panda_arm.urdf\")\n",
    "data = model.createData()\n",
    "\n",
    "qTest = np.array([0.0, 0.0, 0.0, -1.5, 0.0, 1.0, 0.0])\n",
    "qd = np.array([1, 1, 1, 1, 1, 1, 1])\n",
    "\n",
    "pin.forwardKinematics(model,data,qTest)\n",
    "# pin.computeJointJacobians(model,data,qTest)\n",
    "\n",
    "J = pin.computeJointJacobian(model,data,qTest,7)\n",
    "\n",
    "R_bloc = np.zeros((6,6))\n",
    "R_bloc[0:3, 0:3] = data.oMi[7].rotation\n",
    "R_bloc[3:, 3:] = data.oMi[7].rotation\n",
    "print(R_bloc@J@qd)"
   ]
  },
  {
   "cell_type": "code",
   "execution_count": null,
   "metadata": {},
   "outputs": [],
   "source": [
    "np.set_printoptions(precision=3, suppress=True)\n",
    "print(R_bloc)\n"
   ]
  },
  {
   "cell_type": "code",
   "execution_count": null,
   "metadata": {},
   "outputs": [],
   "source": []
  }
 ],
 "metadata": {
  "kernelspec": {
   "display_name": "Python 3.9.13 64-bit",
   "language": "python",
   "name": "python3"
  },
  "language_info": {
   "codemirror_mode": {
    "name": "ipython",
    "version": 3
   },
   "file_extension": ".py",
   "mimetype": "text/x-python",
   "name": "python",
   "nbconvert_exporter": "python",
   "pygments_lexer": "ipython3",
   "version": "3.9.13"
  },
  "orig_nbformat": 4,
  "vscode": {
   "interpreter": {
    "hash": "ac2eaa0ea0ebeafcc7822e65e46aa9d4f966f30b695406963e145ea4a91cd4fc"
   }
  }
 },
 "nbformat": 4,
 "nbformat_minor": 2
}
